{
 "cells": [
  {
   "cell_type": "markdown",
   "metadata": {},
   "source": [
    "# Assignment 3<br>\n",
    "## 1 Image Classification using RF and SVM\n",
    "\n",
    "\n",
    "### Antoine Wang 260766084"
   ]
  },
  {
   "cell_type": "code",
   "execution_count": 15,
   "metadata": {},
   "outputs": [],
   "source": [
    "import cv2\n",
    "import numpy as np\n",
    "import matplotlib.pyplot as plt\n",
    "from sklearn import svm\n",
    "from sklearn.ensemble import RandomForestClassifier"
   ]
  },
  {
   "cell_type": "code",
   "execution_count": 16,
   "metadata": {},
   "outputs": [],
   "source": [
    "# Define the path for the input images\n",
    "# please change this part if directory is different\n",
    "path = ''"
   ]
  },
  {
   "cell_type": "code",
   "execution_count": 17,
   "metadata": {},
   "outputs": [
    {
     "name": "stdout",
     "output_type": "stream",
     "text": [
      "<class 'numpy.ndarray'>\n",
      "(1556, 128, 128)\n",
      "(1556,)\n"
     ]
    }
   ],
   "source": [
    "train_images = np.load(path + 'flower_subset.npz')['train_images']\n",
    "train_labels = np.load(path + 'flower_subset.npz')['train_labels']\n",
    "test_images = np.load(path + 'flower_subset.npz')['test_images']\n",
    "test_labels = np.load(path + 'flower_subset.npz')['test_labels']\n",
    "\n",
    "print(type(train_images))\n",
    "print(train_images.data.shape)\n",
    "print(train_labels.shape)"
   ]
  },
  {
   "cell_type": "markdown",
   "metadata": {},
   "source": [
    "#### 1.1 Resize the train/test images to 64 * 64 and compute HoG features"
   ]
  },
  {
   "cell_type": "code",
   "execution_count": 18,
   "metadata": {},
   "outputs": [],
   "source": [
    "img_size = (64, 64) # h x w in pixels\n",
    "cell_size = (8, 8)  # h x w in pixels\n",
    "block_size = (4, 4)  # h x w in cells\n",
    "nbins = 4  # number of orientation bins\n",
    "\n",
    "\n",
    "def generate_HoG(dataset,img_size = (64, 64),cell_size = (8, 8),\n",
    "                 block_size = (4, 4), nbins = 4 ):\n",
    "    hog = cv2.HOGDescriptor(_winSize=(img_size[1] // cell_size[1] * cell_size[1],\n",
    "                                  img_size[0] // cell_size[0] * cell_size[0]),\n",
    "                        _blockSize=(block_size[1] * cell_size[1],\n",
    "                                    block_size[0] * cell_size[0]),\n",
    "                        _blockStride=(cell_size[1], cell_size[0]),\n",
    "                        _cellSize=(cell_size[1], cell_size[0]),\n",
    "                        _nbins=nbins)\n",
    "    \n",
    "    \n",
    "    features = []\n",
    "    # normalizing the value of image from 0 - 255\n",
    "    dataset = dataset*255\n",
    "    for i in range(dataset.data.shape[0]):\n",
    "        resized = cv2.resize(dataset[i], img_size, interpolation = cv2.INTER_AREA)\n",
    "        features.append(hog.compute(resized .astype(np.uint8)).reshape(1, -1))\n",
    "    features = np.vstack(features)\n",
    "    \n",
    "    return features"
   ]
  },
  {
   "cell_type": "code",
   "execution_count": 19,
   "metadata": {},
   "outputs": [
    {
     "name": "stdout",
     "output_type": "stream",
     "text": [
      "(1556, 1600)\n",
      "[0.04604047 0.03783537 0.03697053 ... 0.04313596 0.02390664 0.03033774]\n"
     ]
    }
   ],
   "source": [
    "features = generate_HoG(train_images)\n",
    "print(features.shape)\n",
    "print(features[0])"
   ]
  },
  {
   "cell_type": "markdown",
   "metadata": {},
   "source": [
    "#### 1.2 Fit a non-linear SVM classifier (use RBF kernel with gamma=`auto' and (C=1)"
   ]
  },
  {
   "cell_type": "code",
   "execution_count": 20,
   "metadata": {},
   "outputs": [
    {
     "data": {
      "text/plain": [
       "SVC(C=1.0, break_ties=False, cache_size=200, class_weight=None, coef0=0.0,\n",
       "    decision_function_shape='ovr', degree=3, gamma='auto', kernel='rbf',\n",
       "    max_iter=-1, probability=False, random_state=None, shrinking=True,\n",
       "    tol=0.001, verbose=False)"
      ]
     },
     "execution_count": 20,
     "metadata": {},
     "output_type": "execute_result"
    }
   ],
   "source": [
    "clf = svm.SVC(gamma='auto', C=1.) \n",
    "clf.fit(features, train_labels)"
   ]
  },
  {
   "cell_type": "markdown",
   "metadata": {},
   "source": [
    "#### 1.3 Predict labels of the test images by feeding the test features to the trained classifier and calculate classification accuracy."
   ]
  },
  {
   "cell_type": "code",
   "execution_count": 21,
   "metadata": {},
   "outputs": [
    {
     "name": "stdout",
     "output_type": "stream",
     "text": [
      "there are (90,) in the predicted labels\n",
      "there are (90,) in the testing labels/teacher\n",
      "number of correct count: 10\n"
     ]
    }
   ],
   "source": [
    "test_feature = generate_HoG(test_images)\n",
    "prediction = clf.predict(test_feature)\n",
    "print(\"there are \" + str(prediction.shape) + \" in the predicted labels\")\n",
    "print(\"there are \" + str(test_labels.shape) + \" in the testing labels/teacher\")\n",
    "\n",
    "\n",
    "correct_count = 0;\n",
    "for i in range(0, prediction.shape[0]):\n",
    "    if prediction[i] == test_labels[i]:\n",
    "        correct_count = correct_count + 1\n",
    "print(\"number of correct count: \" + str(correct_count))"
   ]
  },
  {
   "cell_type": "markdown",
   "metadata": {},
   "source": [
    "#### 1.4 Tune values of hyperparameters 'gamma' and 'C' (Get 50%)\n",
    "The final chosen value is 100. Gamma is kept at \"auto\";"
   ]
  },
  {
   "cell_type": "code",
   "execution_count": 22,
   "metadata": {},
   "outputs": [
    {
     "name": "stdout",
     "output_type": "stream",
     "text": [
      "there are (90,) in the predicted labels\n",
      "there are (90,) in the testing labels/teacher\n",
      "number of correct count: 50\n",
      "accuracy of the test is: 0.5555555555555556\n"
     ]
    }
   ],
   "source": [
    "clf = svm.SVC(gamma='auto', C=100.) \n",
    "clf.fit(features, train_labels)\n",
    "test_feature = generate_HoG(test_images)\n",
    "prediction = clf.predict(test_feature)\n",
    "print(\"there are \" + str(prediction.shape) + \" in the predicted labels\")\n",
    "print(\"there are \" + str(test_labels.shape) + \" in the testing labels/teacher\")\n",
    "\n",
    "\n",
    "correct_count = 0;\n",
    "for i in range(0, prediction.shape[0]):\n",
    "    if prediction[i] == test_labels[i]:\n",
    "        correct_count = correct_count + 1\n",
    "print(\"number of correct count: \" + str(correct_count))\n",
    "print(\"accuracy of the test is: \" + str(correct_count/prediction.shape[0]))"
   ]
  },
  {
   "cell_type": "markdown",
   "metadata": {},
   "source": [
    "#### 1.5 Fit a Random Forest(RF) classifier (set n estimators=10, max depth=5 and criterion='entropy')"
   ]
  },
  {
   "cell_type": "code",
   "execution_count": 23,
   "metadata": {},
   "outputs": [
    {
     "data": {
      "text/plain": [
       "RandomForestClassifier(bootstrap=True, ccp_alpha=0.0, class_weight=None,\n",
       "                       criterion='entropy', max_depth=5, max_features='auto',\n",
       "                       max_leaf_nodes=None, max_samples=None,\n",
       "                       min_impurity_decrease=0.0, min_impurity_split=None,\n",
       "                       min_samples_leaf=1, min_samples_split=2,\n",
       "                       min_weight_fraction_leaf=0.0, n_estimators=10,\n",
       "                       n_jobs=None, oob_score=False, random_state=None,\n",
       "                       verbose=0, warm_start=False)"
      ]
     },
     "execution_count": 23,
     "metadata": {},
     "output_type": "execute_result"
    }
   ],
   "source": [
    "rf_clf = RandomForestClassifier(n_estimators=10, max_depth=5, criterion='entropy')\n",
    "features = generate_HoG(train_images)\n",
    "rf_clf.fit(features,train_labels)\n"
   ]
  },
  {
   "cell_type": "markdown",
   "metadata": {},
   "source": [
    "#### 1.6 Predict labels of the test images by feeding the test features to the trained classifier and calculate classification accuracy."
   ]
  },
  {
   "cell_type": "code",
   "execution_count": 24,
   "metadata": {},
   "outputs": [
    {
     "name": "stdout",
     "output_type": "stream",
     "text": [
      "there are (90,) in the predicted labels\n",
      "there are (90,) in the testing labels/teacher\n",
      "number of correct count: 31\n"
     ]
    }
   ],
   "source": [
    "test_feature = generate_HoG(test_images)\n",
    "\n",
    "predict_rf = rf_clf.predict(test_feature)\n",
    "\n",
    "print(\"there are \" + str(predict_rf.shape) + \" in the predicted labels\")\n",
    "print(\"there are \" + str(test_labels.shape) + \" in the testing labels/teacher\")\n",
    "correct_count = 0;\n",
    "for i in range(0, predict_rf.shape[0]):\n",
    "    if predict_rf[i] == test_labels[i]:\n",
    "        correct_count = correct_count + 1\n",
    "print(\"number of correct count: \" + str(correct_count))"
   ]
  },
  {
   "cell_type": "markdown",
   "metadata": {},
   "source": [
    "##### setting n_estimators=10, max_depth=5 and criterion='entropy' gives a accuracy way lower than 50%. Below is the tweaked version.\n",
    "When there are 100 estimator in the forest, each has a depth of 10, the performance is boosted above 50%"
   ]
  },
  {
   "cell_type": "code",
   "execution_count": 29,
   "metadata": {},
   "outputs": [
    {
     "name": "stdout",
     "output_type": "stream",
     "text": [
      "there are (90,) in the predicted labels\n",
      "there are (90,) in the testing labels/teacher\n",
      "number of correct count: 46\n",
      "accuracy of the test is: 0.5111111111111111\n"
     ]
    }
   ],
   "source": [
    "rf_clf = RandomForestClassifier(n_estimators=100, max_depth=10, criterion='entropy')\n",
    "features = generate_HoG(train_images)\n",
    "rf_clf.fit(features,train_labels)\n",
    "\n",
    "test_feature = generate_HoG(test_images)\n",
    "\n",
    "predict_rf = rf_clf.predict(test_feature)\n",
    "\n",
    "print(\"there are \" + str(predict_rf.shape) + \" in the predicted labels\")\n",
    "print(\"there are \" + str(test_labels.shape) + \" in the testing labels/teacher\")\n",
    "correct_count = 0;\n",
    "for i in range(0, predict_rf.shape[0]):\n",
    "    if predict_rf[i] == test_labels[i]:\n",
    "        correct_count = correct_count + 1\n",
    "print(\"number of correct count: \" + str(correct_count))\n",
    "print(\"accuracy of the test is: \" + str(correct_count/predict_rf.shape[0]))"
   ]
  },
  {
   "cell_type": "markdown",
   "metadata": {},
   "source": [
    "#### 1.7 Compare results of SVM and RF classifiers."
   ]
  },
  {
   "cell_type": "code",
   "execution_count": 30,
   "metadata": {},
   "outputs": [],
   "source": [
    "def svm_with_random_state(random_state_n, C_n=100.):\n",
    "    features = generate_HoG(train_images)\n",
    "    clf = svm.SVC(gamma='auto', C=C_n, random_state = random_state_n) \n",
    "    clf.fit(features, train_labels)\n",
    "    \n",
    "    test_feature = generate_HoG(test_images)\n",
    "    prediction = clf.predict(test_feature)\n",
    "    print(\"Testing random state for SVM with random state = \" + str(random_state_n))\n",
    "\n",
    "\n",
    "    correct_count = 0;\n",
    "    for i in range(0, prediction.shape[0]):\n",
    "        if prediction[i] == test_labels[i]:\n",
    "            correct_count = correct_count + 1\n",
    "    print(\"number of correct count: \" + str(correct_count))\n",
    "    print(\"accuracy of the test is: \" + str(correct_count/prediction.shape[0]))\n",
    "    print(\"--------------------------------------------------------------\\n\")\n",
    "    \n",
    "    \n",
    "def rf_with_random_state(random_state_n, n_estimators_n=100, max_depth_n=10):\n",
    "    features = generate_HoG(train_images)\n",
    "    rf_clf = RandomForestClassifier(n_estimators=n_estimators_n, \n",
    "                                    max_depth=n_estimators_n, \n",
    "                                    criterion='entropy')\n",
    "    rf_clf.fit(features,train_labels)\n",
    "    \n",
    "    test_feature = generate_HoG(test_images)\n",
    "    predict_rf = rf_clf.predict(test_feature)\n",
    "    print(\"Testing random state for RF with random state = \" + str(random_state_n))\n",
    "    correct_count = 0;\n",
    "    for i in range(0, predict_rf.shape[0]):\n",
    "        if predict_rf[i] == test_labels[i]:\n",
    "            correct_count = correct_count + 1\n",
    "    print(\"number of correct count: \" + str(correct_count))\n",
    "    print(\"accuracy of the test is: \" + str(correct_count/predict_rf.shape[0]))\n",
    "    print(\"--------------------------------------------------------------\\n\")"
   ]
  },
  {
   "cell_type": "code",
   "execution_count": 31,
   "metadata": {},
   "outputs": [
    {
     "name": "stdout",
     "output_type": "stream",
     "text": [
      "Testing random state for SVM with random state = 1\n",
      "number of correct count: 50\n",
      "accuracy of the test is: 0.5555555555555556\n",
      "--------------------------------------------------------------\n",
      "\n",
      "Testing random state for SVM with random state = 2\n",
      "number of correct count: 50\n",
      "accuracy of the test is: 0.5555555555555556\n",
      "--------------------------------------------------------------\n",
      "\n",
      "Testing random state for SVM with random state = 3\n",
      "number of correct count: 50\n",
      "accuracy of the test is: 0.5555555555555556\n",
      "--------------------------------------------------------------\n",
      "\n",
      "Testing random state for SVM with random state = 4\n",
      "number of correct count: 50\n",
      "accuracy of the test is: 0.5555555555555556\n",
      "--------------------------------------------------------------\n",
      "\n",
      "Testing random state for SVM with random state = 5\n",
      "number of correct count: 50\n",
      "accuracy of the test is: 0.5555555555555556\n",
      "--------------------------------------------------------------\n",
      "\n",
      "Testing random state for SVM with random state = 6\n",
      "number of correct count: 50\n",
      "accuracy of the test is: 0.5555555555555556\n",
      "--------------------------------------------------------------\n",
      "\n",
      "Testing random state for SVM with random state = 7\n",
      "number of correct count: 50\n",
      "accuracy of the test is: 0.5555555555555556\n",
      "--------------------------------------------------------------\n",
      "\n",
      "Testing random state for SVM with random state = 8\n",
      "number of correct count: 50\n",
      "accuracy of the test is: 0.5555555555555556\n",
      "--------------------------------------------------------------\n",
      "\n",
      "Testing random state for SVM with random state = 9\n",
      "number of correct count: 50\n",
      "accuracy of the test is: 0.5555555555555556\n",
      "--------------------------------------------------------------\n",
      "\n"
     ]
    }
   ],
   "source": [
    "for i in range(1, 10):\n",
    "    svm_with_random_state(i)"
   ]
  },
  {
   "cell_type": "code",
   "execution_count": 32,
   "metadata": {},
   "outputs": [
    {
     "name": "stdout",
     "output_type": "stream",
     "text": [
      "Testing random state for RF with random state = 1\n",
      "number of correct count: 46\n",
      "accuracy of the test is: 0.5111111111111111\n",
      "--------------------------------------------------------------\n",
      "\n",
      "Testing random state for RF with random state = 2\n",
      "number of correct count: 48\n",
      "accuracy of the test is: 0.5333333333333333\n",
      "--------------------------------------------------------------\n",
      "\n",
      "Testing random state for RF with random state = 3\n",
      "number of correct count: 44\n",
      "accuracy of the test is: 0.4888888888888889\n",
      "--------------------------------------------------------------\n",
      "\n",
      "Testing random state for RF with random state = 4\n",
      "number of correct count: 43\n",
      "accuracy of the test is: 0.4777777777777778\n",
      "--------------------------------------------------------------\n",
      "\n",
      "Testing random state for RF with random state = 5\n",
      "number of correct count: 46\n",
      "accuracy of the test is: 0.5111111111111111\n",
      "--------------------------------------------------------------\n",
      "\n",
      "Testing random state for RF with random state = 6\n",
      "number of correct count: 41\n",
      "accuracy of the test is: 0.45555555555555555\n",
      "--------------------------------------------------------------\n",
      "\n",
      "Testing random state for RF with random state = 7\n",
      "number of correct count: 47\n",
      "accuracy of the test is: 0.5222222222222223\n",
      "--------------------------------------------------------------\n",
      "\n",
      "Testing random state for RF with random state = 8\n",
      "number of correct count: 44\n",
      "accuracy of the test is: 0.4888888888888889\n",
      "--------------------------------------------------------------\n",
      "\n",
      "Testing random state for RF with random state = 9\n",
      "number of correct count: 47\n",
      "accuracy of the test is: 0.5222222222222223\n",
      "--------------------------------------------------------------\n",
      "\n"
     ]
    }
   ],
   "source": [
    "for i in range(1, 10):\n",
    "    rf_with_random_state(i)"
   ]
  },
  {
   "cell_type": "markdown",
   "metadata": {},
   "source": [
    "Above are the result of running 9 different random states. From the result, **SVM is more robost with changing random states** since the accuracy rate keeps unchanged at 55%. Random forest returns slightly different result with different random states, sometimes the accuracy rate even drop slightly below 50%."
   ]
  },
  {
   "cell_type": "code",
   "execution_count": null,
   "metadata": {},
   "outputs": [],
   "source": []
  }
 ],
 "metadata": {
  "kernelspec": {
   "display_name": "Python 3",
   "language": "python",
   "name": "python3"
  },
  "language_info": {
   "codemirror_mode": {
    "name": "ipython",
    "version": 3
   },
   "file_extension": ".py",
   "mimetype": "text/x-python",
   "name": "python",
   "nbconvert_exporter": "python",
   "pygments_lexer": "ipython3",
   "version": "3.7.6"
  }
 },
 "nbformat": 4,
 "nbformat_minor": 4
}
